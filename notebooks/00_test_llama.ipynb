{
 "cells": [
  {
   "cell_type": "code",
   "execution_count": 3,
   "metadata": {},
   "outputs": [],
   "source": [
    "import weave\n",
    "from openai import OpenAI\n",
    "from dotenv import load_dotenv\n",
    "import os\n",
    "\n",
    "load_dotenv()\n",
    "\n",
    "weave.init(\"vllm-llama\")\n",
    "client = OpenAI(\n",
    "                base_url=os.getenv(\"VLLM_BASE_URL\"),\n",
    "                api_key=os.getenv(\"VLLM_API_KEY\"),\n",
    "                )\n",
    "\n",
    "MODEL = \"meta-llama/Meta-Llama-3.1-405B-Instruct-FP8\"\n",
    "\n",
    "@weave.op\n",
    "def call_llama(prompt, model=MODEL):\n",
    "    completion = client.chat.completions.create(\n",
    "                    model=model,\n",
    "                    messages=[\n",
    "                            {\"role\": \"user\", \"content\": prompt}\n",
    "                        ],\n",
    "                    )\n",
    "    return completion.choices[0].message.content"
   ]
  },
  {
   "cell_type": "code",
   "execution_count": 4,
   "metadata": {},
   "outputs": [
    {
     "name": "stdout",
     "output_type": "stream",
     "text": [
      "🍩 https://wandb.ai/aastroza/vllm-llama/r/call/4dff57a8-469a-43d0-865c-13888ab8c47a\n"
     ]
    },
    {
     "data": {
      "text/plain": [
       "'¡Hola! Estoy bien, gracias. ¿Y tú? ¿En qué puedo ayudarte hoy?'"
      ]
     },
     "execution_count": 4,
     "metadata": {},
     "output_type": "execute_result"
    }
   ],
   "source": [
    "call_llama(\"Hola, ¿como estas?\")"
   ]
  }
 ],
 "metadata": {
  "kernelspec": {
   "display_name": ".venv",
   "language": "python",
   "name": "python3"
  },
  "language_info": {
   "codemirror_mode": {
    "name": "ipython",
    "version": 3
   },
   "file_extension": ".py",
   "mimetype": "text/x-python",
   "name": "python",
   "nbconvert_exporter": "python",
   "pygments_lexer": "ipython3",
   "version": "3.12.1"
  }
 },
 "nbformat": 4,
 "nbformat_minor": 2
}
